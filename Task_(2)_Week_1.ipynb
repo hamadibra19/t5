{
  "nbformat": 4,
  "nbformat_minor": 0,
  "metadata": {
    "colab": {
      "provenance": []
    },
    "kernelspec": {
      "name": "python3",
      "display_name": "Python 3"
    },
    "language_info": {
      "name": "python"
    }
  },
  "cells": [
    {
      "cell_type": "markdown",
      "source": [
        "## Objective\n",
        "* The objective of this exercise is to explore and visualize the Traffic Index dataset to gain insights and understand the patterns in the data."
      ],
      "metadata": {
        "id": "4TflBwn4kNdJ"
      }
    },
    {
      "cell_type": "markdown",
      "source": [
        "##Dataset Description"
      ],
      "metadata": {
        "id": "8vb3xNKsoP0r"
      }
    },
    {
      "cell_type": "markdown",
      "source": [
        "| Column Name | Description | Data Type |\n",
        "| :---------------- | :------: | ----: |\n",
        "|   City  |   Name of the city\t   | Object |\n",
        "| Datetime           |   Date and time of the data entry\t   | Object |\n",
        "|  TrafficIndexLive    |  Real-time traffic index\t   | Int |\n",
        "|  Jamscount |  Number of traffic jams\t   | Int |\n",
        "|   JamsDelay  |   Total delay caused by traffic jams (in minutes)\t   | Float |\n",
        "|JamsLength           |   Total length of traffic jams (in kilometers)\t   | Float |\n",
        "|  TrafficIndexWeekAgo    |  Traffic index one week ago\t   | Int |\n",
        "|  TravelTimeHistoric |  Historical average travel time (in minutes)\t   | Float |\n",
        "|   TravelTimeLive  |   Real-time travel time (in minutes)\t   | Float |\n"
      ],
      "metadata": {
        "id": "FQjSVR4h8fu8"
      }
    },
    {
      "cell_type": "markdown",
      "source": [
        "# Tasks"
      ],
      "metadata": {
        "id": "WBNuyQVhlpj5"
      }
    },
    {
      "cell_type": "markdown",
      "source": [
        "## 1. Exploratory Data Analysis (EDA)"
      ],
      "metadata": {
        "id": "hkp41fRQoUSj"
      }
    },
    {
      "cell_type": "markdown",
      "source": [
        "### Perform summary statistics on the dataset."
      ],
      "metadata": {
        "id": "RQpjcBLfoZgr"
      }
    },
    {
      "cell_type": "code",
      "source": [
        "import pandas as pd\n",
        "df = pd.read_csv('/content/Task (2) Dataset.csv')\n",
        "\n"
      ],
      "metadata": {
        "id": "9CIk-QkApKLp"
      },
      "execution_count": 24,
      "outputs": []
    },
    {
      "cell_type": "code",
      "source": [
        "# prompt: Identify and analyze patterns in the data\n",
        "\n",
        "# Check for missing values\n",
        "print(df.isnull().sum())\n",
        "\n",
        "# Explore the distribution of numerical variables\n",
        "print(df.describe())\n",
        "\n",
        "# Analyze the relationship between variables\n",
        "df.corr()\n",
        "\n",
        "# Visualize the data using histograms, scatter plots, etc.\n",
        "import matplotlib.pyplot as plt\n",
        "import seaborn as sns\n",
        "\n",
        "sns.histplot(df['TrafficIndexLive'])\n",
        "plt.show()\n",
        "\n",
        "sns.scatterplot(x='TrafficIndexLive', y='Jamscount', data=df)\n",
        "plt.show()\n"
      ],
      "metadata": {
        "colab": {
          "base_uri": "https://localhost:8080/",
          "height": 859
        },
        "id": "0tZ24_ythf9Z",
        "outputId": "475fb12b-adc5-473a-9e90-af3e36fa301a"
      },
      "execution_count": 26,
      "outputs": [
        {
          "output_type": "stream",
          "name": "stdout",
          "text": [
            "City                      0\n",
            "Datetime                  0\n",
            "TrafficIndexLive          0\n",
            "JamsCount                 0\n",
            "JamsDelay                 0\n",
            "JamsLength                0\n",
            "TrafficIndexWeekAgo       0\n",
            "TravelTimeHistoric     3867\n",
            "TravelTimeLive         3867\n",
            "dtype: int64\n",
            "       TrafficIndexLive     JamsCount     JamsDelay    JamsLength  \\\n",
            "count      66639.000000  66639.000000  66639.000000  66639.000000   \n",
            "mean          14.043113     74.278531    288.353877     49.316135   \n",
            "std           13.488906    107.452022    470.013224     85.352525   \n",
            "min            0.000000      0.000000      0.000000      0.000000   \n",
            "25%            3.000000      9.000000     27.700000      3.000000   \n",
            "50%           10.000000     29.000000     95.700000     12.200000   \n",
            "75%           21.000000     95.000000    336.600000     53.500000   \n",
            "max          138.000000   1359.000000   9989.400000   1173.900000   \n",
            "\n",
            "       TrafficIndexWeekAgo  TravelTimeHistoric  TravelTimeLive  \n",
            "count         66639.000000        62772.000000    62772.000000  \n",
            "mean             13.981737           70.706601       70.048451  \n",
            "std              13.454922           10.588384       11.966725  \n",
            "min               0.000000           49.381346       46.723235  \n",
            "25%               3.000000           63.142591       60.712805  \n",
            "50%              10.000000           68.894790       68.247303  \n",
            "75%              21.000000           76.250975       77.043739  \n",
            "max             138.000000          120.140593      134.484139  \n"
          ]
        },
        {
          "output_type": "error",
          "ename": "ValueError",
          "evalue": "could not convert string to float: 'Abudhabi'",
          "traceback": [
            "\u001b[0;31m---------------------------------------------------------------------------\u001b[0m",
            "\u001b[0;31mValueError\u001b[0m                                Traceback (most recent call last)",
            "\u001b[0;32m<ipython-input-26-bf8933dbf77e>\u001b[0m in \u001b[0;36m<cell line: 10>\u001b[0;34m()\u001b[0m\n\u001b[1;32m      8\u001b[0m \u001b[0;34m\u001b[0m\u001b[0m\n\u001b[1;32m      9\u001b[0m \u001b[0;31m# Analyze the relationship between variables\u001b[0m\u001b[0;34m\u001b[0m\u001b[0;34m\u001b[0m\u001b[0m\n\u001b[0;32m---> 10\u001b[0;31m \u001b[0mdf\u001b[0m\u001b[0;34m.\u001b[0m\u001b[0mcorr\u001b[0m\u001b[0;34m(\u001b[0m\u001b[0;34m)\u001b[0m\u001b[0;34m\u001b[0m\u001b[0;34m\u001b[0m\u001b[0m\n\u001b[0m\u001b[1;32m     11\u001b[0m \u001b[0;34m\u001b[0m\u001b[0m\n\u001b[1;32m     12\u001b[0m \u001b[0;31m# Visualize the data using histograms, scatter plots, etc.\u001b[0m\u001b[0;34m\u001b[0m\u001b[0;34m\u001b[0m\u001b[0m\n",
            "\u001b[0;32m/usr/local/lib/python3.10/dist-packages/pandas/core/frame.py\u001b[0m in \u001b[0;36mcorr\u001b[0;34m(self, method, min_periods, numeric_only)\u001b[0m\n\u001b[1;32m  10052\u001b[0m         \u001b[0mcols\u001b[0m \u001b[0;34m=\u001b[0m \u001b[0mdata\u001b[0m\u001b[0;34m.\u001b[0m\u001b[0mcolumns\u001b[0m\u001b[0;34m\u001b[0m\u001b[0;34m\u001b[0m\u001b[0m\n\u001b[1;32m  10053\u001b[0m         \u001b[0midx\u001b[0m \u001b[0;34m=\u001b[0m \u001b[0mcols\u001b[0m\u001b[0;34m.\u001b[0m\u001b[0mcopy\u001b[0m\u001b[0;34m(\u001b[0m\u001b[0;34m)\u001b[0m\u001b[0;34m\u001b[0m\u001b[0;34m\u001b[0m\u001b[0m\n\u001b[0;32m> 10054\u001b[0;31m         \u001b[0mmat\u001b[0m \u001b[0;34m=\u001b[0m \u001b[0mdata\u001b[0m\u001b[0;34m.\u001b[0m\u001b[0mto_numpy\u001b[0m\u001b[0;34m(\u001b[0m\u001b[0mdtype\u001b[0m\u001b[0;34m=\u001b[0m\u001b[0mfloat\u001b[0m\u001b[0;34m,\u001b[0m \u001b[0mna_value\u001b[0m\u001b[0;34m=\u001b[0m\u001b[0mnp\u001b[0m\u001b[0;34m.\u001b[0m\u001b[0mnan\u001b[0m\u001b[0;34m,\u001b[0m \u001b[0mcopy\u001b[0m\u001b[0;34m=\u001b[0m\u001b[0;32mFalse\u001b[0m\u001b[0;34m)\u001b[0m\u001b[0;34m\u001b[0m\u001b[0;34m\u001b[0m\u001b[0m\n\u001b[0m\u001b[1;32m  10055\u001b[0m \u001b[0;34m\u001b[0m\u001b[0m\n\u001b[1;32m  10056\u001b[0m         \u001b[0;32mif\u001b[0m \u001b[0mmethod\u001b[0m \u001b[0;34m==\u001b[0m \u001b[0;34m\"pearson\"\u001b[0m\u001b[0;34m:\u001b[0m\u001b[0;34m\u001b[0m\u001b[0;34m\u001b[0m\u001b[0m\n",
            "\u001b[0;32m/usr/local/lib/python3.10/dist-packages/pandas/core/frame.py\u001b[0m in \u001b[0;36mto_numpy\u001b[0;34m(self, dtype, copy, na_value)\u001b[0m\n\u001b[1;32m   1836\u001b[0m         \u001b[0;32mif\u001b[0m \u001b[0mdtype\u001b[0m \u001b[0;32mis\u001b[0m \u001b[0;32mnot\u001b[0m \u001b[0;32mNone\u001b[0m\u001b[0;34m:\u001b[0m\u001b[0;34m\u001b[0m\u001b[0;34m\u001b[0m\u001b[0m\n\u001b[1;32m   1837\u001b[0m             \u001b[0mdtype\u001b[0m \u001b[0;34m=\u001b[0m \u001b[0mnp\u001b[0m\u001b[0;34m.\u001b[0m\u001b[0mdtype\u001b[0m\u001b[0;34m(\u001b[0m\u001b[0mdtype\u001b[0m\u001b[0;34m)\u001b[0m\u001b[0;34m\u001b[0m\u001b[0;34m\u001b[0m\u001b[0m\n\u001b[0;32m-> 1838\u001b[0;31m         \u001b[0mresult\u001b[0m \u001b[0;34m=\u001b[0m \u001b[0mself\u001b[0m\u001b[0;34m.\u001b[0m\u001b[0m_mgr\u001b[0m\u001b[0;34m.\u001b[0m\u001b[0mas_array\u001b[0m\u001b[0;34m(\u001b[0m\u001b[0mdtype\u001b[0m\u001b[0;34m=\u001b[0m\u001b[0mdtype\u001b[0m\u001b[0;34m,\u001b[0m \u001b[0mcopy\u001b[0m\u001b[0;34m=\u001b[0m\u001b[0mcopy\u001b[0m\u001b[0;34m,\u001b[0m \u001b[0mna_value\u001b[0m\u001b[0;34m=\u001b[0m\u001b[0mna_value\u001b[0m\u001b[0;34m)\u001b[0m\u001b[0;34m\u001b[0m\u001b[0;34m\u001b[0m\u001b[0m\n\u001b[0m\u001b[1;32m   1839\u001b[0m         \u001b[0;32mif\u001b[0m \u001b[0mresult\u001b[0m\u001b[0;34m.\u001b[0m\u001b[0mdtype\u001b[0m \u001b[0;32mis\u001b[0m \u001b[0;32mnot\u001b[0m \u001b[0mdtype\u001b[0m\u001b[0;34m:\u001b[0m\u001b[0;34m\u001b[0m\u001b[0;34m\u001b[0m\u001b[0m\n\u001b[1;32m   1840\u001b[0m             \u001b[0mresult\u001b[0m \u001b[0;34m=\u001b[0m \u001b[0mnp\u001b[0m\u001b[0;34m.\u001b[0m\u001b[0marray\u001b[0m\u001b[0;34m(\u001b[0m\u001b[0mresult\u001b[0m\u001b[0;34m,\u001b[0m \u001b[0mdtype\u001b[0m\u001b[0;34m=\u001b[0m\u001b[0mdtype\u001b[0m\u001b[0;34m,\u001b[0m \u001b[0mcopy\u001b[0m\u001b[0;34m=\u001b[0m\u001b[0;32mFalse\u001b[0m\u001b[0;34m)\u001b[0m\u001b[0;34m\u001b[0m\u001b[0;34m\u001b[0m\u001b[0m\n",
            "\u001b[0;32m/usr/local/lib/python3.10/dist-packages/pandas/core/internals/managers.py\u001b[0m in \u001b[0;36mas_array\u001b[0;34m(self, dtype, copy, na_value)\u001b[0m\n\u001b[1;32m   1730\u001b[0m                 \u001b[0marr\u001b[0m\u001b[0;34m.\u001b[0m\u001b[0mflags\u001b[0m\u001b[0;34m.\u001b[0m\u001b[0mwriteable\u001b[0m \u001b[0;34m=\u001b[0m \u001b[0;32mFalse\u001b[0m\u001b[0;34m\u001b[0m\u001b[0;34m\u001b[0m\u001b[0m\n\u001b[1;32m   1731\u001b[0m         \u001b[0;32melse\u001b[0m\u001b[0;34m:\u001b[0m\u001b[0;34m\u001b[0m\u001b[0;34m\u001b[0m\u001b[0m\n\u001b[0;32m-> 1732\u001b[0;31m             \u001b[0marr\u001b[0m \u001b[0;34m=\u001b[0m \u001b[0mself\u001b[0m\u001b[0;34m.\u001b[0m\u001b[0m_interleave\u001b[0m\u001b[0;34m(\u001b[0m\u001b[0mdtype\u001b[0m\u001b[0;34m=\u001b[0m\u001b[0mdtype\u001b[0m\u001b[0;34m,\u001b[0m \u001b[0mna_value\u001b[0m\u001b[0;34m=\u001b[0m\u001b[0mna_value\u001b[0m\u001b[0;34m)\u001b[0m\u001b[0;34m\u001b[0m\u001b[0;34m\u001b[0m\u001b[0m\n\u001b[0m\u001b[1;32m   1733\u001b[0m             \u001b[0;31m# The underlying data was copied within _interleave, so no need\u001b[0m\u001b[0;34m\u001b[0m\u001b[0;34m\u001b[0m\u001b[0m\n\u001b[1;32m   1734\u001b[0m             \u001b[0;31m# to further copy if copy=True or setting na_value\u001b[0m\u001b[0;34m\u001b[0m\u001b[0;34m\u001b[0m\u001b[0m\n",
            "\u001b[0;32m/usr/local/lib/python3.10/dist-packages/pandas/core/internals/managers.py\u001b[0m in \u001b[0;36m_interleave\u001b[0;34m(self, dtype, na_value)\u001b[0m\n\u001b[1;32m   1792\u001b[0m             \u001b[0;32melse\u001b[0m\u001b[0;34m:\u001b[0m\u001b[0;34m\u001b[0m\u001b[0;34m\u001b[0m\u001b[0m\n\u001b[1;32m   1793\u001b[0m                 \u001b[0marr\u001b[0m \u001b[0;34m=\u001b[0m \u001b[0mblk\u001b[0m\u001b[0;34m.\u001b[0m\u001b[0mget_values\u001b[0m\u001b[0;34m(\u001b[0m\u001b[0mdtype\u001b[0m\u001b[0;34m)\u001b[0m\u001b[0;34m\u001b[0m\u001b[0;34m\u001b[0m\u001b[0m\n\u001b[0;32m-> 1794\u001b[0;31m             \u001b[0mresult\u001b[0m\u001b[0;34m[\u001b[0m\u001b[0mrl\u001b[0m\u001b[0;34m.\u001b[0m\u001b[0mindexer\u001b[0m\u001b[0;34m]\u001b[0m \u001b[0;34m=\u001b[0m \u001b[0marr\u001b[0m\u001b[0;34m\u001b[0m\u001b[0;34m\u001b[0m\u001b[0m\n\u001b[0m\u001b[1;32m   1795\u001b[0m             \u001b[0mitemmask\u001b[0m\u001b[0;34m[\u001b[0m\u001b[0mrl\u001b[0m\u001b[0;34m.\u001b[0m\u001b[0mindexer\u001b[0m\u001b[0;34m]\u001b[0m \u001b[0;34m=\u001b[0m \u001b[0;36m1\u001b[0m\u001b[0;34m\u001b[0m\u001b[0;34m\u001b[0m\u001b[0m\n\u001b[1;32m   1796\u001b[0m \u001b[0;34m\u001b[0m\u001b[0m\n",
            "\u001b[0;31mValueError\u001b[0m: could not convert string to float: 'Abudhabi'"
          ]
        }
      ]
    },
    {
      "cell_type": "markdown",
      "source": [
        "### Identify and analyze patterns in the data."
      ],
      "metadata": {
        "id": "OjwISK8nocUT"
      }
    },
    {
      "cell_type": "markdown",
      "source": [],
      "metadata": {
        "id": "t9rtjgPjSpHY"
      }
    },
    {
      "cell_type": "markdown",
      "source": [
        "### Visualize the distribution of key variables (e.g., Traffic_Index, Date)."
      ],
      "metadata": {
        "id": "4k-cDvL8oflR"
      }
    },
    {
      "cell_type": "code",
      "source": [
        "\n",
        "\n",
        "import matplotlib.pyplot as plt\n",
        "import seaborn as sns\n",
        "\n",
        "\n",
        "plt.figure(figsize=(10, 6))\n",
        "sns.histplot(df['TrafficIndexLive'], kde=True)\n",
        "plt.title('Distribution of Traffic Index Live')\n",
        "plt.xlabel('Traffic Index Live')\n",
        "plt.ylabel('Frequency')\n",
        "plt.show()\n",
        "\n",
        ")\n",
        "df['Datetime'] = pd.to_datetime(df['Datetime'])\n",
        "plt.figure(figsize=(10, 6))\n",
        "df['Datetime'].dt.date.value_counts().sort_index().plot(kind='line')\n",
        "plt.title('Distribution of Dates')\n",
        "plt.xlabel('Date')\n",
        "plt.ylabel('Count')\n",
        "plt.show()\n"
      ],
      "metadata": {
        "colab": {
          "base_uri": "https://localhost:8080/",
          "height": 106
        },
        "id": "7XxGf7Mrf1wq",
        "outputId": "61720673-bf4e-4b6d-fc96-db5b158c0a93"
      },
      "execution_count": 21,
      "outputs": [
        {
          "output_type": "error",
          "ename": "SyntaxError",
          "evalue": "unmatched ')' (<ipython-input-21-0d098c0b619f>, line 12)",
          "traceback": [
            "\u001b[0;36m  File \u001b[0;32m\"<ipython-input-21-0d098c0b619f>\"\u001b[0;36m, line \u001b[0;32m12\u001b[0m\n\u001b[0;31m    )\u001b[0m\n\u001b[0m    ^\u001b[0m\n\u001b[0;31mSyntaxError\u001b[0m\u001b[0;31m:\u001b[0m unmatched ')'\n"
          ]
        }
      ]
    },
    {
      "cell_type": "code",
      "source": [
        "sns.countplot(x='Date', data=df)\n",
        "plt.title('Distribution of Dates)\n",
        "plt.xlabel('Date')\n",
        "plt.ylabel('Count')\n",
        "plt.show()"
      ],
      "metadata": {
        "colab": {
          "base_uri": "https://localhost:8080/",
          "height": 106
        },
        "id": "J2igv4KkhB5T",
        "outputId": "c9bf544c-6a83-4584-fc56-05b9378e6805"
      },
      "execution_count": 22,
      "outputs": [
        {
          "output_type": "error",
          "ename": "SyntaxError",
          "evalue": "unterminated string literal (detected at line 2) (<ipython-input-22-3b778d4b0a9d>, line 2)",
          "traceback": [
            "\u001b[0;36m  File \u001b[0;32m\"<ipython-input-22-3b778d4b0a9d>\"\u001b[0;36m, line \u001b[0;32m2\u001b[0m\n\u001b[0;31m    plt.title('Distribution of Dates)\u001b[0m\n\u001b[0m              ^\u001b[0m\n\u001b[0;31mSyntaxError\u001b[0m\u001b[0;31m:\u001b[0m unterminated string literal (detected at line 2)\n"
          ]
        }
      ]
    },
    {
      "cell_type": "markdown",
      "source": [
        "### Explore relationships between variables (e.g., Traffic_Index vs. Weather_Condition).\n"
      ],
      "metadata": {
        "id": "Lz4jQtNBoih-"
      }
    },
    {
      "cell_type": "code",
      "source": [],
      "metadata": {
        "id": "2Txh8eI1pLJQ"
      },
      "execution_count": null,
      "outputs": []
    },
    {
      "cell_type": "markdown",
      "source": [
        "## 2. Data Visualization"
      ],
      "metadata": {
        "id": "mZiDh1gronRD"
      }
    },
    {
      "cell_type": "markdown",
      "source": [
        "* Ensure the visualizations are clear and informative."
      ],
      "metadata": {
        "id": "WL4wC3iSqWuO"
      }
    },
    {
      "cell_type": "markdown",
      "source": [
        "### Create visualizations to illustrate the findings from the EDA.\n"
      ],
      "metadata": {
        "id": "VfUFvWxUopoh"
      }
    },
    {
      "cell_type": "code",
      "source": [
        "\n",
        "plt.figure(figsize=(10, 8))\n",
        "sns.heatmap(df.corr(), annot=True, cmap='coolwarm')\n",
        "plt.title('Correlation Matrix')\n",
        "plt.show()\n",
        "\n",
        "plt.figure(figsize=(12, 6))\n",
        "sns.boxplot(x='City', y='TrafficIndexLive', data=df)\n",
        "plt.title('Distribution of Traffic Index Live by City')\n",
        "plt.xticks(rotation=45)\n",
        "plt.show()\n",
        "\n",
        "# Visualize the trend of Traffic Index Live over time\n",
        "plt.figure(figsize=(12, 6))\n",
        "sns.lineplot(x='Datetime', y='TrafficIndexLive', data=df)\n",
        "plt.title('Trend of Traffic Index Live Over Time')\n",
        "plt.xticks(rotation=45)\n",
        "plt.show()\n",
        "\n",
        "# Visualize the relationship between Traffic Index Live and Jams Count\n",
        "plt.figure(figsize=(10, 6))\n",
        "sns.scatterplot(x='TrafficIndexLive', y='Jamscount', data=df)\n",
        "plt.title('Relationship between Traffic Index Live and Jams Count')\n",
        "plt.xlabel('Traffic Index Live')\n",
        "plt.ylabel('Jams Count')\n",
        "plt.show()\n"
      ],
      "metadata": {
        "id": "KAlacPHypMVh",
        "colab": {
          "base_uri": "https://localhost:8080/",
          "height": 228
        },
        "outputId": "ab399bc5-acd0-4989-d85d-f8d07d2824af"
      },
      "execution_count": 27,
      "outputs": [
        {
          "output_type": "error",
          "ename": "NameError",
          "evalue": "name 'sns' is not defined",
          "traceback": [
            "\u001b[0;31m---------------------------------------------------------------------------\u001b[0m",
            "\u001b[0;31mNameError\u001b[0m                                 Traceback (most recent call last)",
            "\u001b[0;32m<ipython-input-27-9efa6a91470a>\u001b[0m in \u001b[0;36m<cell line: 5>\u001b[0;34m()\u001b[0m\n\u001b[1;32m      3\u001b[0m \u001b[0;31m# Visualize the correlation between numerical variables\u001b[0m\u001b[0;34m\u001b[0m\u001b[0;34m\u001b[0m\u001b[0m\n\u001b[1;32m      4\u001b[0m \u001b[0mplt\u001b[0m\u001b[0;34m.\u001b[0m\u001b[0mfigure\u001b[0m\u001b[0;34m(\u001b[0m\u001b[0mfigsize\u001b[0m\u001b[0;34m=\u001b[0m\u001b[0;34m(\u001b[0m\u001b[0;36m10\u001b[0m\u001b[0;34m,\u001b[0m \u001b[0;36m8\u001b[0m\u001b[0;34m)\u001b[0m\u001b[0;34m)\u001b[0m\u001b[0;34m\u001b[0m\u001b[0;34m\u001b[0m\u001b[0m\n\u001b[0;32m----> 5\u001b[0;31m \u001b[0msns\u001b[0m\u001b[0;34m.\u001b[0m\u001b[0mheatmap\u001b[0m\u001b[0;34m(\u001b[0m\u001b[0mdf\u001b[0m\u001b[0;34m.\u001b[0m\u001b[0mcorr\u001b[0m\u001b[0;34m(\u001b[0m\u001b[0;34m)\u001b[0m\u001b[0;34m,\u001b[0m \u001b[0mannot\u001b[0m\u001b[0;34m=\u001b[0m\u001b[0;32mTrue\u001b[0m\u001b[0;34m,\u001b[0m \u001b[0mcmap\u001b[0m\u001b[0;34m=\u001b[0m\u001b[0;34m'coolwarm'\u001b[0m\u001b[0;34m)\u001b[0m\u001b[0;34m\u001b[0m\u001b[0;34m\u001b[0m\u001b[0m\n\u001b[0m\u001b[1;32m      6\u001b[0m \u001b[0mplt\u001b[0m\u001b[0;34m.\u001b[0m\u001b[0mtitle\u001b[0m\u001b[0;34m(\u001b[0m\u001b[0;34m'Correlation Matrix'\u001b[0m\u001b[0;34m)\u001b[0m\u001b[0;34m\u001b[0m\u001b[0;34m\u001b[0m\u001b[0m\n\u001b[1;32m      7\u001b[0m \u001b[0mplt\u001b[0m\u001b[0;34m.\u001b[0m\u001b[0mshow\u001b[0m\u001b[0;34m(\u001b[0m\u001b[0;34m)\u001b[0m\u001b[0;34m\u001b[0m\u001b[0;34m\u001b[0m\u001b[0m\n",
            "\u001b[0;31mNameError\u001b[0m: name 'sns' is not defined"
          ]
        },
        {
          "output_type": "display_data",
          "data": {
            "text/plain": [
              "<Figure size 1000x800 with 0 Axes>"
            ]
          },
          "metadata": {}
        }
      ]
    },
    {
      "cell_type": "markdown",
      "source": [
        "### Use appropriate plots such as histograms, bar charts, pie charts, scatter plots, and heatmaps."
      ],
      "metadata": {
        "id": "G4KCbzg4osSW"
      }
    },
    {
      "cell_type": "code",
      "source": [],
      "metadata": {
        "id": "IKyAKt5apMp4"
      },
      "execution_count": null,
      "outputs": []
    },
    {
      "cell_type": "markdown",
      "source": [
        "## 3. Insights and Conclusions"
      ],
      "metadata": {
        "id": "breh9YkZoxiT"
      }
    },
    {
      "cell_type": "markdown",
      "source": [
        "* <h3>Summarize the key insights gained from the data analysis.<h3/>\n",
        "* <h3>Draw conclusions based on the patterns observed in the data.<h3/>"
      ],
      "metadata": {
        "id": "a9akovSwo5l2"
      }
    }
  ]
}