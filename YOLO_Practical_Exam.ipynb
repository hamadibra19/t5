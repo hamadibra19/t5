{
  "cells": [
    {
      "cell_type": "markdown",
      "id": "fd8284c7",
      "metadata": {
        "id": "fd8284c7"
      },
      "source": [
        "# Road Traffic Vehicle Counting Exam"
      ]
    },
    {
      "cell_type": "markdown",
      "id": "90e8c1a5",
      "metadata": {
        "id": "90e8c1a5"
      },
      "source": [
        "In this exam, you will use the YOLO (You Only Look Once) object detection model to analyze a video of road traffic. Your primary task is to count the number of vehicles exiting the road at each of the four exits (located at the top, bottom, left, and right of the frame). The video for this task is provided at `Datasets/YOLO_Exam_Video.mp4`.\n",
        "\n",
        "## Objectives\n",
        "- Load and process the video using OpenCV.\n",
        "- Utilize the YOLO model to detect vehicles in each frame.\n",
        "- Manipulate the video frames using OpenCV.\n",
        "- Track vehicles as they move across the video frames.\n",
        "- Count the number of vehicles exiting via the top street.\n",
        "- Count the number of vehicles exiting via the bottom street.\n",
        "- Count the number of vehicles exiting via the left street.\n",
        "- Count the number of vehicles exiting via the right street.\n"
      ]
    },
    {
      "cell_type": "markdown",
      "id": "c7269b0e",
      "metadata": {
        "id": "c7269b0e"
      },
      "source": [
        "## Setup Environment"
      ]
    },
    {
      "cell_type": "markdown",
      "id": "2fd3bce8",
      "metadata": {
        "id": "2fd3bce8"
      },
      "source": [
        "Before you begin, ensure you have the necessary libraries installed. You will need `opencv`, and `ultralytics` among others.\n",
        "If these are not installed, you should install them."
      ]
    },
    {
      "cell_type": "code",
      "source": [
        "from google.colab import drive\n",
        "drive.mount('/content/drive')"
      ],
      "metadata": {
        "id": "8odeQhOJK9gl",
        "outputId": "40745182-fe8a-4f4e-9a0b-739a282cb23e",
        "colab": {
          "base_uri": "https://localhost:8080/"
        }
      },
      "id": "8odeQhOJK9gl",
      "execution_count": 4,
      "outputs": [
        {
          "output_type": "stream",
          "name": "stdout",
          "text": [
            "Mounted at /content/drive\n"
          ]
        }
      ]
    },
    {
      "cell_type": "code",
      "execution_count": 2,
      "id": "e48a05c4",
      "metadata": {
        "vscode": {
          "languageId": "plaintext"
        },
        "id": "e48a05c4",
        "outputId": "0695de08-c565-4187-8a48-5f8f9fd8f797",
        "colab": {
          "base_uri": "https://localhost:8080/"
        }
      },
      "outputs": [
        {
          "output_type": "stream",
          "name": "stdout",
          "text": [
            "Requirement already satisfied: ultralytics in /usr/local/lib/python3.10/dist-packages (8.2.85)\n",
            "Requirement already satisfied: numpy<2.0.0,>=1.23.0 in /usr/local/lib/python3.10/dist-packages (from ultralytics) (1.26.4)\n",
            "Requirement already satisfied: matplotlib>=3.3.0 in /usr/local/lib/python3.10/dist-packages (from ultralytics) (3.7.1)\n",
            "Requirement already satisfied: opencv-python>=4.6.0 in /usr/local/lib/python3.10/dist-packages (from ultralytics) (4.10.0.84)\n",
            "Requirement already satisfied: pillow>=7.1.2 in /usr/local/lib/python3.10/dist-packages (from ultralytics) (9.4.0)\n",
            "Requirement already satisfied: pyyaml>=5.3.1 in /usr/local/lib/python3.10/dist-packages (from ultralytics) (6.0.2)\n",
            "Requirement already satisfied: requests>=2.23.0 in /usr/local/lib/python3.10/dist-packages (from ultralytics) (2.32.3)\n",
            "Requirement already satisfied: scipy>=1.4.1 in /usr/local/lib/python3.10/dist-packages (from ultralytics) (1.13.1)\n",
            "Requirement already satisfied: torch>=1.8.0 in /usr/local/lib/python3.10/dist-packages (from ultralytics) (2.4.0+cu121)\n",
            "Requirement already satisfied: torchvision>=0.9.0 in /usr/local/lib/python3.10/dist-packages (from ultralytics) (0.19.0+cu121)\n",
            "Requirement already satisfied: tqdm>=4.64.0 in /usr/local/lib/python3.10/dist-packages (from ultralytics) (4.66.5)\n",
            "Requirement already satisfied: psutil in /usr/local/lib/python3.10/dist-packages (from ultralytics) (5.9.5)\n",
            "Requirement already satisfied: py-cpuinfo in /usr/local/lib/python3.10/dist-packages (from ultralytics) (9.0.0)\n",
            "Requirement already satisfied: pandas>=1.1.4 in /usr/local/lib/python3.10/dist-packages (from ultralytics) (2.1.4)\n",
            "Requirement already satisfied: seaborn>=0.11.0 in /usr/local/lib/python3.10/dist-packages (from ultralytics) (0.13.1)\n",
            "Requirement already satisfied: ultralytics-thop>=2.0.0 in /usr/local/lib/python3.10/dist-packages (from ultralytics) (2.0.6)\n",
            "Requirement already satisfied: contourpy>=1.0.1 in /usr/local/lib/python3.10/dist-packages (from matplotlib>=3.3.0->ultralytics) (1.2.1)\n",
            "Requirement already satisfied: cycler>=0.10 in /usr/local/lib/python3.10/dist-packages (from matplotlib>=3.3.0->ultralytics) (0.12.1)\n",
            "Requirement already satisfied: fonttools>=4.22.0 in /usr/local/lib/python3.10/dist-packages (from matplotlib>=3.3.0->ultralytics) (4.53.1)\n",
            "Requirement already satisfied: kiwisolver>=1.0.1 in /usr/local/lib/python3.10/dist-packages (from matplotlib>=3.3.0->ultralytics) (1.4.5)\n",
            "Requirement already satisfied: packaging>=20.0 in /usr/local/lib/python3.10/dist-packages (from matplotlib>=3.3.0->ultralytics) (24.1)\n",
            "Requirement already satisfied: pyparsing>=2.3.1 in /usr/local/lib/python3.10/dist-packages (from matplotlib>=3.3.0->ultralytics) (3.1.4)\n",
            "Requirement already satisfied: python-dateutil>=2.7 in /usr/local/lib/python3.10/dist-packages (from matplotlib>=3.3.0->ultralytics) (2.8.2)\n",
            "Requirement already satisfied: pytz>=2020.1 in /usr/local/lib/python3.10/dist-packages (from pandas>=1.1.4->ultralytics) (2024.1)\n",
            "Requirement already satisfied: tzdata>=2022.1 in /usr/local/lib/python3.10/dist-packages (from pandas>=1.1.4->ultralytics) (2024.1)\n",
            "Requirement already satisfied: charset-normalizer<4,>=2 in /usr/local/lib/python3.10/dist-packages (from requests>=2.23.0->ultralytics) (3.3.2)\n",
            "Requirement already satisfied: idna<4,>=2.5 in /usr/local/lib/python3.10/dist-packages (from requests>=2.23.0->ultralytics) (3.8)\n",
            "Requirement already satisfied: urllib3<3,>=1.21.1 in /usr/local/lib/python3.10/dist-packages (from requests>=2.23.0->ultralytics) (2.0.7)\n",
            "Requirement already satisfied: certifi>=2017.4.17 in /usr/local/lib/python3.10/dist-packages (from requests>=2.23.0->ultralytics) (2024.7.4)\n",
            "Requirement already satisfied: filelock in /usr/local/lib/python3.10/dist-packages (from torch>=1.8.0->ultralytics) (3.15.4)\n",
            "Requirement already satisfied: typing-extensions>=4.8.0 in /usr/local/lib/python3.10/dist-packages (from torch>=1.8.0->ultralytics) (4.12.2)\n",
            "Requirement already satisfied: sympy in /usr/local/lib/python3.10/dist-packages (from torch>=1.8.0->ultralytics) (1.13.2)\n",
            "Requirement already satisfied: networkx in /usr/local/lib/python3.10/dist-packages (from torch>=1.8.0->ultralytics) (3.3)\n",
            "Requirement already satisfied: jinja2 in /usr/local/lib/python3.10/dist-packages (from torch>=1.8.0->ultralytics) (3.1.4)\n",
            "Requirement already satisfied: fsspec in /usr/local/lib/python3.10/dist-packages (from torch>=1.8.0->ultralytics) (2024.6.1)\n",
            "Requirement already satisfied: six>=1.5 in /usr/local/lib/python3.10/dist-packages (from python-dateutil>=2.7->matplotlib>=3.3.0->ultralytics) (1.16.0)\n",
            "Requirement already satisfied: MarkupSafe>=2.0 in /usr/local/lib/python3.10/dist-packages (from jinja2->torch>=1.8.0->ultralytics) (2.1.5)\n",
            "Requirement already satisfied: mpmath<1.4,>=1.1.0 in /usr/local/lib/python3.10/dist-packages (from sympy->torch>=1.8.0->ultralytics) (1.3.0)\n"
          ]
        }
      ],
      "source": [
        "!pip install ultralytics"
      ]
    },
    {
      "cell_type": "markdown",
      "id": "a69c2ac2",
      "metadata": {
        "id": "a69c2ac2"
      },
      "source": [
        "## Load the YOLO Model"
      ]
    },
    {
      "cell_type": "markdown",
      "id": "145d70fc",
      "metadata": {
        "id": "145d70fc"
      },
      "source": [
        "You will first need to load the YOLO model, there is a custom model for this exam called `YOLO_Model.pt` under Datasets file ⚠️ PLEASE USE THIS MODEL AND DO NOT USE ANY OTHER MODEL ⚠️.\n",
        "Write the code to load the YOLO model below:"
      ]
    },
    {
      "cell_type": "code",
      "execution_count": 16,
      "id": "7e580e4a",
      "metadata": {
        "vscode": {
          "languageId": "plaintext"
        },
        "id": "7e580e4a"
      },
      "outputs": [],
      "source": [
        "import cv2\n",
        "from ultralytics import YOLO\n",
        "import pandas as pd\n",
        "import numpy as np\n",
        "from tqdm.notebook import tqdm\n",
        "\n",
        "model = YOLO('/content/YOLO_Model.pt')\n",
        "dict_classes = model.model.names"
      ]
    },
    {
      "cell_type": "markdown",
      "id": "cf691ac8",
      "metadata": {
        "id": "cf691ac8"
      },
      "source": [
        "## Prepare the Video Capture"
      ]
    },
    {
      "cell_type": "markdown",
      "metadata": {
        "id": "Nw9RSvKCdonK"
      },
      "source": [
        "Create a variable to capture the video frames, you can use `cv2.VideoCapture()` to achive this."
      ],
      "id": "Nw9RSvKCdonK"
    },
    {
      "cell_type": "code",
      "execution_count": null,
      "id": "81cfbca1",
      "metadata": {
        "vscode": {
          "languageId": "plaintext"
        },
        "id": "81cfbca1"
      },
      "outputs": [],
      "source": []
    },
    {
      "cell_type": "markdown",
      "id": "48757309",
      "metadata": {
        "id": "48757309"
      },
      "source": [
        "## Get Video Information"
      ]
    },
    {
      "cell_type": "markdown",
      "id": "b4f5d5bc",
      "metadata": {
        "id": "b4f5d5bc"
      },
      "source": [
        "You can use `cv2` library to get these information fro the `VideoCapture()` variable you created to extract these information:\n",
        "* `height`: Video's height.\n",
        "* `width`: Video's width.\n",
        "* `fps`: Video's frames."
      ]
    },
    {
      "cell_type": "code",
      "execution_count": 17,
      "id": "cb8e5ceb",
      "metadata": {
        "vscode": {
          "languageId": "plaintext"
        },
        "id": "cb8e5ceb"
      },
      "outputs": [],
      "source": [
        "video_path = '/content/YOLO_Video.mp4'\n",
        "video = cv2.VideoCapture(video_path)"
      ]
    },
    {
      "cell_type": "code",
      "source": [
        "height = int(video.get(cv2.CAP_PROP_FRAME_HEIGHT))\n",
        "width = int(video.get(cv2.CAP_PROP_FRAME_WIDTH))\n",
        "fps = video.get(cv2.CAP_PROP_FPS)"
      ],
      "metadata": {
        "id": "3Wy7wQBYLwNP"
      },
      "id": "3Wy7wQBYLwNP",
      "execution_count": 18,
      "outputs": []
    },
    {
      "cell_type": "markdown",
      "id": "3f241495",
      "metadata": {
        "id": "3f241495"
      },
      "source": [
        "## Prepare Video Writer to Store the Output"
      ]
    },
    {
      "cell_type": "markdown",
      "id": "9ef61a34",
      "metadata": {
        "id": "9ef61a34"
      },
      "source": [
        "Create a variable that uses `cv2.VideoCapture()` to save the video with the bounding boxes, specified Region of Interest rectangle (ROI) and the counted vehicles on each sides. You will need to make the video with the same `fps`, `width`, `height`, and specify the codec and output path of the video."
      ]
    },
    {
      "cell_type": "code",
      "execution_count": 19,
      "id": "449562c2",
      "metadata": {
        "vscode": {
          "languageId": "plaintext"
        },
        "id": "449562c2"
      },
      "outputs": [],
      "source": [
        "output_path = '/content/YOLO_Video.mp4'\n",
        "VIDEO_CODEC = \"MP4V\"\n",
        "output_video = cv2.VideoWriter(output_path, cv2.VideoWriter_fourcc(*VIDEO_CODEC), fps, (width, height))"
      ]
    },
    {
      "cell_type": "markdown",
      "id": "31e882a2",
      "metadata": {
        "id": "31e882a2"
      },
      "source": [
        "## Expermint to get the `(x1, y1, x2, y2)` of the ROI"
      ]
    },
    {
      "cell_type": "code",
      "source": [
        "ret, frame = video.read()"
      ],
      "metadata": {
        "id": "OLLb4TspNl5C"
      },
      "id": "OLLb4TspNl5C",
      "execution_count": 20,
      "outputs": []
    },
    {
      "cell_type": "code",
      "source": [
        "x1, y1, x2, y2 = 100, 200, 300, 400\n",
        "cv2.rectangle(frame, (x1, y1), (x2, y2), (0, 255, 0), 2)\n",
        "\n"
      ],
      "metadata": {
        "collapsed": true,
        "id": "msG1O5uzNoVo"
      },
      "id": "msG1O5uzNoVo",
      "execution_count": 21,
      "outputs": []
    },
    {
      "cell_type": "markdown",
      "id": "3b6e6d97",
      "metadata": {
        "id": "3b6e6d97"
      },
      "source": [
        "### Hint\n",
        "When defining the Regions of Interest (ROIs) for detecting vehicles exiting the road, consider the coordinates that outline the relevant areas. These coordinates can be specified as `(x1, y1, x2, y2)`, where `(x1, y1)` is the top-left corner and `(x2, y2)` is the bottom-right corner of the rectangle.\n",
        "\n",
        "Experiment with different coordinates to accurately cover the streets where vehicles exit. Visualize these ROIs by drawing rectangles on a frame of the video and adjust the coordinates as needed until you capture the desired areas effectively."
      ]
    },
    {
      "cell_type": "code",
      "execution_count": null,
      "id": "68f46e81",
      "metadata": {
        "vscode": {
          "languageId": "plaintext"
        },
        "id": "68f46e81"
      },
      "outputs": [],
      "source": []
    },
    {
      "cell_type": "markdown",
      "id": "067dbc12",
      "metadata": {
        "id": "067dbc12"
      },
      "source": [
        "## Process Video Frames and Identify Vehicles Left the Road Form Each Street"
      ]
    },
    {
      "cell_type": "markdown",
      "id": "aa695d88",
      "metadata": {
        "id": "aa695d88"
      },
      "source": [
        "For each frame in the video, use the YOLO model to detect and track vehicles. You will need to write a loop that processes each frame and applies the YOLO model.\n",
        "\n",
        "In each frame, after detecting the vehicles, determine whether they exited the road via the top, bottom, left, or right street. You can use the positions of the bounding boxes provided by YOLO to do this.\n",
        "\n",
        "- The video should display bounding boxes around the detected objects.\n",
        "- The video should display your name on the top.\n",
        "- It should display the calculated center of each vehicle.\n",
        "- The video should display the confidence score, alongside the object ID and class ID of each detected and tracked object.\n",
        "- The video should display the rectangles representing the regions where you count the vehicles that have crossed and exited.\n",
        "- The video should display the number of vehicles that exited via the top street.\n",
        "- The video should display the number of vehicles that exited via the bottom street.\n",
        "- The video should display the number of vehicles that exited via the left street.\n",
        "- The video should display the number of vehicles that exited via the right street."
      ]
    },
    {
      "cell_type": "code",
      "source": [
        "# Define ROI coordinates\n",
        "top_x1, top_y1, top_x2, top_y2 = 10, 0, 1270, 100\n",
        "bottom_x1, bottom_y1, bottom_x2, bottom_y2 = 10, 710, 1270, 800\n",
        "left_x1, left_y1, left_x2, left_y2 = 0, 100, 100, 710\n",
        "right_x1, right_y1, right_x2, right_y2 = 1170, 100, 1280, 710\n",
        "\n",
        "top_count, bottom_count, left_count, right_count = 0, 0, 0, 0\n",
        "\n",
        "while True:\n",
        "    ret, frame = video.read()\n",
        "    if not ret:\n",
        "        break\n",
        "\n",
        "    results = model.predict(frame)\n",
        "\n",
        "    for result in results:\n",
        "        detections = result.boxes\n",
        "        for detection in detections:\n",
        "            bbox = detection.xyxy[0].tolist()\n",
        "            x1, y1, x2, y2 = map(int, bbox)\n",
        "            cx, cy = int((x1 + x2) / 2), int((y1 + y2) / 2)\n",
        "\n",
        "            conf = round(detection.conf.item(), 2)\n",
        "            cls = int(detection.cls.item())\n",
        "\n",
        "            # Count vehicles leaving each side\n",
        "            if top_x1 < cx < top_x2 and top_y1 < cy < top_y2:\n",
        "                top_count += 1\n",
        "            if bottom_x1 < cx < bottom_x2 and bottom_y1 < cy < bottom_y2:\n",
        "                bottom_count += 1\n",
        "            if left_x1 < cx < left_x2 and left_y1 < cy < left_y2:\n",
        "                left_count += 1\n",
        "            if right_x1 < cx < right_x2 and right_y1 < cy < right_y2:\n",
        "                right_count += 1\n",
        "\n",
        "            # Annotate frame\n",
        "            cv2.rectangle(frame, (x1, y1), (x2, y2), (0, 255, 0), 2)\n",
        "            cv2.circle(frame, (cx, cy), 5, (0, 0, 255), -1)\n",
        "            label = f\"{conf} {cls}\"\n",
        "            cv2.putText(frame, label, (x1, y1 - 10), cv2.FONT_HERSHEY_SIMPLEX, 0.5, (0, 255, 0), 2)\n",
        "\n",
        "    # Draw ROI rectangles\n",
        "    cv2.rectangle(frame, (top_x1, top_y1), (top_x2, top_y2), (0, 255, 0), 2)\n",
        "    cv2.rectangle(frame, (bottom_x1, bottom_y1), (bottom_x2, bottom_y2), (0, 255, 0), 2)\n",
        "    cv2.rectangle(frame, (left_x1, left_y1), (left_x2, left_y2), (0, 255, 0), 2)\n",
        "    cv2.rectangle(frame, (right_x1, right_y1), (right_x2, right_y2), (0, 255, 0), 2)\n",
        "\n",
        "\n",
        "   # Display counts\n",
        "    cv2.putText(frame, f\"Top: {top_count}\", (10, 30), cv2.FONT_HERSHEY_SIMPLEX, 0.7, (0, 0, 255), 2)\n",
        "    cv2.putText(frame, f\"Bottom: {bottom_count}\", (10, 770), cv2.FONT_HERSHEY_SIMPLEX, 0.7, (0, 0, 255), 2)\n",
        "    cv2.putText(frame, f\"Left: {left_count}\", (10, 400), cv2.FONT_HERSHEY_SIMPLEX, 0.7, (0, 0, 255), 2)\n",
        "    cv2.putText(frame, f\"Right: {right_count}\", (1150, 400), cv2.FONT_HERSHEY_SIMPLEX, 0.7, (0, 0, 255), 2)"
      ],
      "metadata": {
        "id": "_iOOQvApP3ST"
      },
      "id": "_iOOQvApP3ST",
      "execution_count": 24,
      "outputs": []
    },
    {
      "cell_type": "code",
      "source": [
        "from google.colab.patches import cv2_imshow"
      ],
      "metadata": {
        "id": "lNqz0cI6Q4sT"
      },
      "id": "lNqz0cI6Q4sT",
      "execution_count": 25,
      "outputs": []
    },
    {
      "cell_type": "code",
      "source": [
        "print(dict_classes)"
      ],
      "metadata": {
        "id": "PNmMxk0-Q7-y",
        "outputId": "e234b0c6-b18d-4733-8a75-d92e241ae4aa",
        "colab": {
          "base_uri": "https://localhost:8080/"
        }
      },
      "id": "PNmMxk0-Q7-y",
      "execution_count": 26,
      "outputs": [
        {
          "output_type": "stream",
          "name": "stdout",
          "text": [
            "{0: 'bus', 1: 'car', 2: 'truck', 3: 'van'}\n"
          ]
        }
      ]
    },
    {
      "cell_type": "code",
      "source": [
        "import torch\n",
        "device = 'cuda:0' if torch.cuda.is_available() else 'cpu'"
      ],
      "metadata": {
        "id": "Rzb4WwSXRFu7"
      },
      "id": "Rzb4WwSXRFu7",
      "execution_count": 27,
      "outputs": []
    },
    {
      "cell_type": "code",
      "source": [
        "output_video.write(frame)"
      ],
      "metadata": {
        "id": "ukM7S99PTXhC"
      },
      "id": "ukM7S99PTXhC",
      "execution_count": 28,
      "outputs": []
    },
    {
      "cell_type": "code",
      "source": [
        "video.release()\n",
        "output_video.release()"
      ],
      "metadata": {
        "id": "0XYBL8GeRLZM"
      },
      "id": "0XYBL8GeRLZM",
      "execution_count": 29,
      "outputs": []
    },
    {
      "cell_type": "markdown",
      "id": "71d3083e",
      "metadata": {
        "id": "71d3083e"
      },
      "source": [
        "## Save and Submit Your Work"
      ]
    },
    {
      "cell_type": "markdown",
      "id": "ae5e33ac",
      "metadata": {
        "id": "ae5e33ac"
      },
      "source": [
        "Submit both the notebook and the output video"
      ]
    }
  ],
  "metadata": {
    "language_info": {
      "name": "python"
    },
    "colab": {
      "provenance": []
    },
    "kernelspec": {
      "name": "python3",
      "display_name": "Python 3"
    }
  },
  "nbformat": 4,
  "nbformat_minor": 5
}